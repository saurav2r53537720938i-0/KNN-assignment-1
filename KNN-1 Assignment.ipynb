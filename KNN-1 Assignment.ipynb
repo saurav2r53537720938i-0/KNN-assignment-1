{
 "cells": [
  {
   "cell_type": "markdown",
   "id": "5e5cd356-6345-4378-8045-86cda7f5c0c1",
   "metadata": {},
   "source": [
    "The K-Nearest neighbour(KNN) algorthim is a simple supervised machine learning algorthim used for classfication and regression tasks.it classfies or predict a new data point's label based on the majority class of its k nearest neighbour in the feature space.The choice of K determines the number of neighbour to consider.It is a non-parmetric,lazy learning algorthim meaning it doesn't make any assumption about the underlying data distribution and doesn't require traning a model before making predctions"
   ]
  },
  {
   "cell_type": "markdown",
   "id": "ab0d237f-45ea-4215-a790-6bc769d988ca",
   "metadata": {},
   "source": [
    "Choosing the value of K in KNN is crucial as it can signficantly affect the model's performance there no one-size-fits answer and the choice depends on the datset and problem at hand.Some common methods for slecting K include:\n",
    "1. Cross -validation\n",
    "2. Rule of Thumb\n",
    "3. Domain Knowldge\n",
    "4. Grid search\n",
    "5. Experimentation\n",
    "Ultimetely it essential to experiment with diffrent value of k and evluates the mood performance using apporpriate \n",
    "metric to determine the optimal value for your paricular dataset and problem"
   ]
  },
  {
   "cell_type": "markdown",
   "id": "12608bbd-5447-4329-a881-e0c5d9e25b82",
   "metadata": {},
   "source": [
    "The main diffrence between KNN classfier and KNN regressor lies in their output andd the type of problem they are used to solve:\n",
    "1. KNN classfier:output class labels or categories problembs classfication task where the goal is to classfiy data oiunts into predefined classes or categories\n",
    "2. KNN Regressor:output numerical values types regression task where the goal is to predict a continous numerical value predction for a new data point the KNN regressor predicts the target value based on the average of target value of its k nearest neighbour"
   ]
  },
  {
   "cell_type": "markdown",
   "id": "687a7908-18a8-4e42-8989-cc82a3586d57",
   "metadata": {},
   "source": [
    "To measure the performance of a KNN model you can use various evluation metrics depending on whether you are dealing with a classfication or regression task.Here are some common meetric for each:\n",
    "1. Accuracy\n",
    "2. Precsion\n",
    "3. Recall\n",
    "4. f1 score\n",
    "5. ROC curve and AUC\n",
    "For regression tasks:\n",
    "1. Mean absolute error\n",
    "2. Mean Squared ERoor\n",
    "3. Root Mean\n",
    "4. R-suared"
   ]
  },
  {
   "cell_type": "markdown",
   "id": "f0185c5e-a1fc-4392-bffd-a6fede2d2566",
   "metadata": {},
   "source": [
    "The curse of dimensionality refers to the challenge tha arise when dealing with high-dimensional data in algorthims like k-nearest neighbour(KNN) as number of dimension increase the data becomes increasingly the data becomes incresingly sparse making it diffcult for KNN to accurately merasure distances between data points this can lead to decreased performance and increased computaional complexity"
   ]
  },
  {
   "cell_type": "markdown",
   "id": "e0759b61-dd70-4b55-b90e-7a2bf809af4a",
   "metadata": {},
   "source": [
    "Handling missing values and use only the avialable features to calculate distance between in a few ways:\n",
    "1. Ignore missing values\n",
    "2. Imputation\n",
    "3. Weighted KNN\n",
    "Each method has its advantage and disadvantage and the choice depends on the specfic chartersti9cs of the dataset and the problebm you are trying to solve"
   ]
  },
  {
   "cell_type": "code",
   "execution_count": null,
   "id": "9f0a8f5e-ece4-4a9a-8ad9-7004bd5fc6e3",
   "metadata": {},
   "outputs": [],
   "source": []
  }
 ],
 "metadata": {
  "kernelspec": {
   "display_name": "Python 3 (ipykernel)",
   "language": "python",
   "name": "python3"
  },
  "language_info": {
   "codemirror_mode": {
    "name": "ipython",
    "version": 3
   },
   "file_extension": ".py",
   "mimetype": "text/x-python",
   "name": "python",
   "nbconvert_exporter": "python",
   "pygments_lexer": "ipython3",
   "version": "3.10.8"
  }
 },
 "nbformat": 4,
 "nbformat_minor": 5
}
